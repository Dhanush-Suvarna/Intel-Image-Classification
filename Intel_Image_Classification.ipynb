{
  "cells": [
    {
      "cell_type": "code",
      "execution_count": null,
      "metadata": {
        "id": "5xCLD5_EbeTp"
      },
      "outputs": [],
      "source": [
        "#Connecting Google Drive\n",
        "from google.colab import drive\n",
        "drive.mount('/content/drive')"
      ]
    },
    {
      "cell_type": "code",
      "execution_count": null,
      "metadata": {
        "id": "vMl07TH3b705"
      },
      "outputs": [],
      "source": [
        "#Importing Required Libries\n",
        "import os\n",
        "import zipfile\n",
        "import tensorflow as tf\n",
        "import numpy as np\n",
        "from keras. preprocessing.image import ImageDataGenerator\n",
        "from keras.models import load_model,save_model\n",
        "from keras.models import Sequential\n",
        "from keras.layers import Dense,Flatten\n",
        "from keras.applications.resnet import ResNet50\n",
        "from keras.callbacks import ModelCheckpoint\n",
        "from keras.callbacks import EarlyStopping\n",
        "from keras.applications.densenet import DenseNet121\n",
        "from keras.optimizers import Adam\n",
        "from keras.applications.nasnet import NASNetMobile\n",
        "from tensorflow import keras\n",
        "from keras.applications import EfficientNetB0\n"
      ]
    },
    {
      "cell_type": "code",
      "execution_count": null,
      "metadata": {
        "id": "L5Alc-uJcZfK"
      },
      "outputs": [],
      "source": [
        "#Credential of kaggle\n",
        "#steps: go to kaggle profile > click account > scroll down and click on create new api token and download add the username and kaggle key from downloaded api key token \n",
        "#os.environ['KAGGLE_USERNAME'] = \"dhanushsuvarna\" # username from the json file\n",
        "#os.environ['KAGGLE_KEY'] = \"708fcda2c3a62199540b712b530bdd31\" # key from the json file"
      ]
    },
    {
      "cell_type": "code",
      "execution_count": null,
      "metadata": {
        "colab": {
          "base_uri": "https://localhost:8080/"
        },
        "id": "RQn3xT7tdDKs",
        "outputId": "e85e0dc5-3039-458b-f4e0-bb06734ba44d"
      },
      "outputs": [
        {
          "name": "stdout",
          "output_type": "stream",
          "text": [
            "Downloading intel-image-classification.zip to /content\n",
            " 97% 337M/346M [00:07<00:00, 73.4MB/s]\n",
            "100% 346M/346M [00:08<00:00, 44.9MB/s]\n"
          ]
        }
      ],
      "source": [
        "#Downloading dataset from kaggle\n",
        "#go to data and copy the link and paste it in below code\n",
        "#!kaggle datasets download -d puneet6060/intel-image-classification"
      ]
    },
    {
      "cell_type": "code",
      "execution_count": null,
      "metadata": {
        "id": "lRJQtEcZfpfb"
      },
      "outputs": [],
      "source": [
        "#unzip the file by providing the zip file location and extracting location\n",
        "#zip_ref = zipfile.ZipFile(\"/content/intel-image-classification.zip\", 'r')\n",
        "#zip_ref.extractall(\"/content/drive/MyDrive/iic2\")\n",
        "#zip_ref.close()\n"
      ]
    },
    {
      "cell_type": "code",
      "execution_count": null,
      "metadata": {
        "id": "7-YwRygkjiCC"
      },
      "outputs": [],
      "source": [
        "#data Path of train test and prediction directory\n",
        "train_data_dir = '/content/drive/MyDrive/iic2/seg_train/seg_train'\n",
        "test_data_dir =  '/content/drive/MyDrive/iic2/seg_test/seg_test'\n",
        "pred_dir = '/content/drive/MyDrive/iic2/seg_pred/seg_pred'\n",
        "inferance_data_dir ='/content/drive/MyDrive/iic2/Inference Data(DX)-20221018T042634Z-001/Inference Data(DX)'"
      ]
    },
    {
      "cell_type": "code",
      "execution_count": null,
      "metadata": {
        "colab": {
          "base_uri": "https://localhost:8080/"
        },
        "id": "Q-Fa_lPek4nH",
        "outputId": "f232b597-e9b3-481e-a27e-39ceba95485e"
      },
      "outputs": [
        {
          "output_type": "stream",
          "name": "stdout",
          "text": [
            "Found 11230 images belonging to 6 classes.\n",
            "Found 2804 images belonging to 6 classes.\n",
            "Found 3000 images belonging to 6 classes.\n"
          ]
        }
      ],
      "source": [
        "#Image data genrator for augmentation\n",
        "IMG_SIZE = (224, 224)\n",
        "BATCH_SIZE = 100\n",
        "image_generator = ImageDataGenerator(rescale=1./255, validation_split=0.2)    \n",
        "# set the directory for train test and validation\n",
        "train_data = image_generator.flow_from_directory( directory=train_data_dir,\n",
        "                                                 target_size=IMG_SIZE, \n",
        "                                                 subset=\"training\",\n",
        "                                                 class_mode='categorical',batch_size=BATCH_SIZE)\n",
        "\n",
        "val_data = image_generator.flow_from_directory(directory=train_data_dir,\n",
        "                                                 target_size=IMG_SIZE, \n",
        "                                                 subset=\"validation\",\n",
        "                                                 class_mode='categorical',batch_size=BATCH_SIZE)\n",
        "test_gen = ImageDataGenerator(rescale=1./255)\n",
        "test_data = test_gen.flow_from_directory(test_data_dir,\n",
        "                                       target_size=IMG_SIZE, batch_size=BATCH_SIZE,shuffle=False)\n",
        "\n",
        "\n"
      ]
    },
    {
      "cell_type": "code",
      "execution_count": null,
      "metadata": {
        "id": "PfvoFkObiCQb"
      },
      "outputs": [],
      "source": [
        "#Train and test steps\n",
        "train_steps = len(train_data)\n",
        "val_steps  = len(val_data)"
      ]
    },
    {
      "cell_type": "code",
      "execution_count": null,
      "metadata": {
        "colab": {
          "base_uri": "https://localhost:8080/"
        },
        "id": "u7YY3i0zbV8U",
        "outputId": "7d7593e4-fa21-4799-b950-8a475abf1a4e"
      },
      "outputs": [
        {
          "output_type": "stream",
          "name": "stdout",
          "text": [
            "Downloading data from https://storage.googleapis.com/tensorflow/keras-applications/mobilenet/mobilenet_1_0_224_tf_no_top.h5\n",
            "17225924/17225924 [==============================] - 0s 0us/step\n"
          ]
        }
      ],
      "source": [
        "#model creation\n",
        "#include_top=Flase will allow us to add dense layer at the end\n",
        "#trainable=Flase will not train the model because the model is pre trained\n",
        "mobilenet = Sequential()\n",
        "\n",
        "mobilenet_pretrained_model2= tf.keras.applications.MobileNet(include_top=False,\n",
        "                   input_shape=(224,224,3),\n",
        "                   weights='imagenet',dropout=0.4)\n",
        "for layer in mobilenet_pretrained_model.layers:\n",
        "        layer.trainable=False\n",
        "\n",
        "mobilenet.add(mobilenet_pretrained_model)\n"
      ]
    },
    {
      "cell_type": "code",
      "execution_count": null,
      "metadata": {
        "id": "A4gfoBuIfljT"
      },
      "outputs": [],
      "source": [
        "#flattening the output(coverting two dimentional into one diementional)\n",
        "mobilenet.add(Flatten())\n",
        "mobilenet.add(Dense(6, activation='softmax'))"
      ]
    },
    {
      "cell_type": "code",
      "execution_count": null,
      "metadata": {
        "id": "8MSNMqXLfpE-"
      },
      "outputs": [],
      "source": [
        "#Compiling the model\n",
        "mobilenet.compile(optimizer=Adam(learning_rate=0.0001), \n",
        "              loss='categorical_crossentropy', \n",
        "              metrics=['accuracy'])\n",
        "\n",
        "#model checkpoint will save the weight for every epoch\n",
        "#early stopping will stop the epoch if the accuracy is not increasing and if we specify the patience it will wait till 6 run if the accuracy is not increasing\n",
        "mobilenet_checkpoint_filepath2='/content/drive/MyDrive/iic-final/mnet2_my_best_model.epoch{epoch:02d}-loss{val_loss:.2f}.hdf5'\n",
        "\n",
        "mobilenet_call_back2=[ModelCheckpoint(\n",
        "    filepath=mnet_checkpoint_filepath2,\n",
        "    save_weights_only=True,\n",
        "    monitor='val_accuracy',\n",
        "    mode='max',\n",
        "    save_best_only=True),EarlyStopping(monitor=\"val_accuracy\",patience=6)]"
      ]
    },
    {
      "cell_type": "code",
      "execution_count": null,
      "metadata": {
        "colab": {
          "base_uri": "https://localhost:8080/"
        },
        "id": "HVpbufDXf6kl",
        "outputId": "02c194ec-a309-4e74-f900-aff51509909c"
      },
      "outputs": [
        {
          "output_type": "stream",
          "name": "stdout",
          "text": [
            "Epoch 1/100\n",
            "113/113 [==============================] - 2423s 21s/step - loss: 0.4836 - accuracy: 0.8467 - val_loss: 0.3303 - val_accuracy: 0.8969\n",
            "Epoch 2/100\n",
            "113/113 [==============================] - 37s 327ms/step - loss: 0.1396 - accuracy: 0.9511 - val_loss: 0.3151 - val_accuracy: 0.9026\n",
            "Epoch 3/100\n",
            "113/113 [==============================] - 37s 328ms/step - loss: 0.0605 - accuracy: 0.9836 - val_loss: 0.3036 - val_accuracy: 0.9083\n",
            "Epoch 4/100\n",
            "113/113 [==============================] - 37s 326ms/step - loss: 0.0308 - accuracy: 0.9953 - val_loss: 0.3002 - val_accuracy: 0.9112\n",
            "Epoch 5/100\n",
            "113/113 [==============================] - 36s 321ms/step - loss: 0.0200 - accuracy: 0.9980 - val_loss: 0.3001 - val_accuracy: 0.9130\n",
            "Epoch 6/100\n",
            "113/113 [==============================] - 36s 322ms/step - loss: 0.0149 - accuracy: 0.9988 - val_loss: 0.3053 - val_accuracy: 0.9116\n",
            "Epoch 7/100\n",
            "113/113 [==============================] - 36s 317ms/step - loss: 0.0134 - accuracy: 0.9988 - val_loss: 0.3083 - val_accuracy: 0.9123\n",
            "Epoch 8/100\n",
            "113/113 [==============================] - 37s 326ms/step - loss: 0.0124 - accuracy: 0.9986 - val_loss: 0.3204 - val_accuracy: 0.9108\n",
            "Epoch 9/100\n",
            "113/113 [==============================] - 37s 323ms/step - loss: 0.0105 - accuracy: 0.9989 - val_loss: 0.3211 - val_accuracy: 0.9137\n",
            "Epoch 10/100\n",
            "113/113 [==============================] - 37s 323ms/step - loss: 0.0109 - accuracy: 0.9987 - val_loss: 0.3185 - val_accuracy: 0.9169\n",
            "Epoch 11/100\n",
            "113/113 [==============================] - 36s 322ms/step - loss: 0.0112 - accuracy: 0.9987 - val_loss: 0.3254 - val_accuracy: 0.9165\n",
            "Epoch 12/100\n",
            "113/113 [==============================] - 36s 318ms/step - loss: 0.0100 - accuracy: 0.9988 - val_loss: 0.3205 - val_accuracy: 0.9162\n",
            "Epoch 13/100\n",
            "113/113 [==============================] - 36s 319ms/step - loss: 0.0098 - accuracy: 0.9990 - val_loss: 0.3327 - val_accuracy: 0.9144\n",
            "Epoch 14/100\n",
            "113/113 [==============================] - 38s 332ms/step - loss: 0.0104 - accuracy: 0.9988 - val_loss: 0.3378 - val_accuracy: 0.9162\n",
            "Epoch 15/100\n",
            "113/113 [==============================] - 37s 325ms/step - loss: 0.0099 - accuracy: 0.9988 - val_loss: 0.3569 - val_accuracy: 0.9101\n",
            "Epoch 16/100\n",
            "113/113 [==============================] - 36s 323ms/step - loss: 0.0098 - accuracy: 0.9988 - val_loss: 0.3579 - val_accuracy: 0.9130\n"
          ]
        }
      ],
      "source": [
        "#training the model using fit\n",
        "mobilenet_hist = mobilenet.fit(train_data,validation_data= val_data,epochs=100,callbacks=mnet_call_back2,steps_per_epoch = train_steps,validation_steps=val_steps)\n"
      ]
    },
    {
      "cell_type": "code",
      "source": [
        "#Saving the model\n",
        "mobilenet.save('/content/drive/MyDrive/iic-final/mnet-best-model.hdf5')"
      ],
      "metadata": {
        "id": "Ar4chOeOnrnp"
      },
      "execution_count": null,
      "outputs": []
    },
    {
      "cell_type": "code",
      "execution_count": null,
      "metadata": {
        "colab": {
          "base_uri": "https://localhost:8080/"
        },
        "id": "uQc33l11gErY",
        "outputId": "b529d9f0-0c99-4f52-b4d2-b1df00cf8fe9"
      },
      "outputs": [
        {
          "output_type": "stream",
          "name": "stderr",
          "text": [
            "/usr/local/lib/python3.7/dist-packages/ipykernel_launcher.py:1: UserWarning: `Model.evaluate_generator` is deprecated and will be removed in a future version. Please use `Model.evaluate`, which supports generators.\n",
            "  \"\"\"Entry point for launching an IPython kernel.\n"
          ]
        },
        {
          "output_type": "execute_result",
          "data": {
            "text/plain": [
              "[0.36309733986854553, 0.9126666784286499]"
            ]
          },
          "metadata": {},
          "execution_count": 14
        }
      ],
      "source": [
        "#Evaluating the test data\n",
        "mobilenet.evaluate_generator(test_data)"
      ]
    },
    {
      "cell_type": "code",
      "execution_count": null,
      "metadata": {
        "id": "YUOQ_YRB_Sbs",
        "colab": {
          "base_uri": "https://localhost:8080/"
        },
        "outputId": "bc432927-681b-4988-c45d-872e90db29e9"
      },
      "outputs": [
        {
          "output_type": "stream",
          "name": "stdout",
          "text": [
            "Found 3003 images belonging to 6 classes.\n"
          ]
        }
      ],
      "source": [
        "#Scaling the inferance data\n",
        "inferance_image_generator = ImageDataGenerator(rescale=1./255)\n",
        "inferance_data = inferance_image_generator.flow_from_directory(inferance_data_dir,\n",
        "                                       target_size=IMG_SIZE, batch_size=BATCH_SIZE,shuffle=False)"
      ]
    },
    {
      "cell_type": "code",
      "source": [
        "#evalating the inferance data\n",
        "mobilenet.evaluate_generator(inferance_data)"
      ],
      "metadata": {
        "colab": {
          "base_uri": "https://localhost:8080/"
        },
        "id": "rJP-uTCBxjtj",
        "outputId": "33d48395-68f0-4345-d59f-e30ccbc7de09"
      },
      "execution_count": null,
      "outputs": [
        {
          "output_type": "stream",
          "name": "stderr",
          "text": [
            "/usr/local/lib/python3.7/dist-packages/ipykernel_launcher.py:1: UserWarning: `Model.evaluate_generator` is deprecated and will be removed in a future version. Please use `Model.evaluate`, which supports generators.\n",
            "  \"\"\"Entry point for launching an IPython kernel.\n"
          ]
        },
        {
          "output_type": "execute_result",
          "data": {
            "text/plain": [
              "[1.618497371673584, 0.7565767765045166]"
            ]
          },
          "metadata": {},
          "execution_count": 26
        }
      ]
    },
    {
      "cell_type": "code",
      "source": [],
      "metadata": {
        "id": "IzJ0o_o__thh"
      },
      "execution_count": null,
      "outputs": []
    }
  ],
  "metadata": {
    "accelerator": "GPU",
    "colab": {
      "provenance": []
    },
    "kernelspec": {
      "display_name": "Python 3",
      "name": "python3"
    },
    "language_info": {
      "name": "python"
    }
  },
  "nbformat": 4,
  "nbformat_minor": 0
}